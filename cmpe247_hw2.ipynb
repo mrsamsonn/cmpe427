{
  "nbformat": 4,
  "nbformat_minor": 0,
  "metadata": {
    "colab": {
      "provenance": [],
      "collapsed_sections": [],
      "authorship_tag": "ABX9TyNpEoLooP0m2kRuv1obTzXi",
      "include_colab_link": true
    },
    "kernelspec": {
      "name": "python3",
      "display_name": "Python 3"
    },
    "language_info": {
      "name": "python"
    }
  },
  "cells": [
    {
      "cell_type": "markdown",
      "metadata": {
        "id": "view-in-github",
        "colab_type": "text"
      },
      "source": [
        "<a href=\"https://colab.research.google.com/github/mrsamsonn/cmpe427/blob/main/cmpe247_hw2.ipynb\" target=\"_parent\"><img src=\"https://colab.research.google.com/assets/colab-badge.svg\" alt=\"Open In Colab\"/></a>"
      ]
    },
    {
      "cell_type": "code",
      "execution_count": 39,
      "metadata": {
        "id": "FgqK4m6E6RXj",
        "colab": {
          "base_uri": "https://localhost:8080/"
        },
        "outputId": "4626d63f-8a33-4357-d67a-b15c21cc1b22"
      },
      "outputs": [
        {
          "output_type": "stream",
          "name": "stdout",
          "text": [
            "True\n",
            "False\n",
            "MSE =  55.5625\n"
          ]
        }
      ],
      "source": [
        "import numpy as np\n",
        "\n",
        "def test_distinct(data):\n",
        "  for x in range(0,len(data)):\n",
        "    for y in range(x+1,len(data)):\n",
        "      if data[x] == data[y]:\n",
        "        return False\n",
        "  return True\n",
        "print(test_distinct([1,5,7,9]))\n",
        "print(test_distinct([2,4,5,5,7,9]))\n",
        "\n",
        "w_T = [0.25,0.75]\n",
        "x_T = [100,200,300,400,500]\n",
        "y_T = [65,155,220,310,370]\n",
        "\n",
        "\n",
        "def MSE(vec,x1,y1):\n",
        "  arrList = len(x1)\n",
        "  summationPrev = 0\n",
        "\n",
        "  for x in range(0,arrList):\n",
        "    summation = vec[0]+vec[1]*x1[x]-y1[x]\n",
        "    summation = summation*summation\n",
        "    summation = summation + summationPrev\n",
        "    summationPrev = summation\n",
        "\n",
        "  print('MSE = ',(1/arrList)*summation)\n",
        "\n",
        "MSE(w_T,x_T,y_T)\n",
        "\n",
        "\n",
        "\n",
        "\n"
      ]
    }
  ]
}